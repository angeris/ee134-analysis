{
 "cells": [
  {
   "cell_type": "code",
   "execution_count": 1,
   "metadata": {
    "collapsed": false
   },
   "outputs": [
    {
     "name": "stdout",
     "output_type": "stream",
     "text": [
      "Populating the interactive namespace from numpy and matplotlib\n"
     ]
    }
   ],
   "source": [
    "%pylab inline"
   ]
  },
  {
   "cell_type": "code",
   "execution_count": 21,
   "metadata": {
    "collapsed": false
   },
   "outputs": [
    {
     "data": {
      "text/plain": [
       "array([[ 20.   ,  24.   ,   1.95 ],\n",
       "       [ 25.   ,  25.01 ,   1.83 ],\n",
       "       [ 30.   ,  25.89 ,   1.69 ],\n",
       "       [ 35.   ,  26.89 ,   1.54 ],\n",
       "       [ 40.   ,  27.55 ,   1.398],\n",
       "       [ 45.   ,  28.1  ,   1.276],\n",
       "       [ 50.   ,  28.45 ,   1.251],\n",
       "       [ 53.   ,  28.62 ,   1.291],\n",
       "       [ 54.   ,  28.74 ,   1.35 ],\n",
       "       [ 55.   ,  28.74 ,   1.42 ],\n",
       "       [ 56.   ,  28.74 ,   1.48 ],\n",
       "       [ 57.   ,  28.64 ,   1.555],\n",
       "       [ 60.   ,  28.36 ,   1.847],\n",
       "       [ 65.   ,  27.27 ,   3.   ],\n",
       "       [ 70.   ,  24.85 ,   5.06 ],\n",
       "       [ 75.   ,  21.71 ,   8.2  ],\n",
       "       [ 80.   ,  16.56 ,  15.54 ]])"
      ]
     },
     "execution_count": 21,
     "metadata": {},
     "output_type": "execute_result"
    }
   ],
   "source": [
    "import xlwings as xw\n",
    "\n",
    "# View the current data open in Excel\n",
    "curr_data = array(xw.Range('A17:C33').value)\n",
    "curr_data"
   ]
  },
  {
   "cell_type": "code",
   "execution_count": 22,
   "metadata": {
    "collapsed": false
   },
   "outputs": [],
   "source": [
    "angle_deg = array(curr_data[:,0])\n",
    "intensity_mV = array(curr_data[:,2])"
   ]
  },
  {
   "cell_type": "code",
   "execution_count": 23,
   "metadata": {
    "collapsed": false
   },
   "outputs": [
    {
     "data": {
      "text/plain": [
       "<matplotlib.text.Text at 0x10afa8b70>"
      ]
     },
     "execution_count": 23,
     "metadata": {},
     "output_type": "execute_result"
    },
    {
     "data": {
      "image/png": "[encoded data removed]",
      "text/plain": [
       "<matplotlib.figure.Figure at 0x10b2835f8>"
      ]
     },
     "metadata": {},
     "output_type": "display_data"
    }
   ],
   "source": [
    "# A quick plot of the data yields\n",
    "plot(angle_deg, intensity_mV)\n",
    "xlabel('Angle in Deg.')\n",
    "ylabel('Intensity in mV')"
   ]
  },
  {
   "cell_type": "code",
   "execution_count": 38,
   "metadata": {
    "collapsed": false
   },
   "outputs": [],
   "source": [
    "n_1 = 1"
   ]
  },
  {
   "cell_type": "markdown",
   "metadata": {},
   "source": [
    "## Gradients and differentiation rules\n",
    "\n",
    "Note that\n",
    "$$\n",
    "\\ell \\equiv \\sqrt{1-\\left(\\frac{n_1}{n_2}\\sin\\theta_i\\right)^2} = \\cos\\theta_t\n",
    "$$\n",
    "such that\n",
    "$$\n",
    "\\frac{d\\ell}{dn_2} = \\frac{n_1 \\sin\\theta_i}{n_2^3\\sqrt{\\ell}}\n",
    "$$"
   ]
  },
  {
   "cell_type": "code",
   "execution_count": 16,
   "metadata": {
    "collapsed": true
   },
   "outputs": [],
   "source": [
    "def d_division(u, v, du, dv):\n",
    "    return (du*v - dv*u)/(v*v)\n",
    "\n",
    "def d_multiplication(u, v, du, dv):\n",
    "    return u*dv + du*v\n",
    "\n",
    "def l_funct(angle_i_rad, n_1, n_2):\n",
    "    return sqrt(1 - (n_1/n_2*sin(angle_i_rad))**2)\n",
    "\n",
    "def l_grad(angle_i_rad, n_1, n_2):\n",
    "    return n_1*sin(angle_i_rad)/(n_2**3 * l_funct(angle_i_rad, n_1, n_2))"
   ]
  },
  {
   "cell_type": "code",
   "execution_count": 58,
   "metadata": {
    "collapsed": true
   },
   "outputs": [],
   "source": [
    "def Rp(angle_i_rad, n_1, n_2):\n",
    "    l = l_funct(angle_i_rad, n_1, n_2)\n",
    "    costi = cos(angle_i_rad)\n",
    "    return ((n_1*l - n_2*costi)/(n_1*l + n_2*costi))**2\n",
    "\n",
    "def grad_Rp(angle_i_rad, n_1, n_2):\n",
    "    l = l_funct(angle_i_rad, n_1, n_2)\n",
    "    dl = l_grad(angle_i_rad, n_1, n_2)\n",
    "    costi = cos(angle_i_rad)\n",
    "    u = n_1*l - n_2*costi\n",
    "    v = n_1*l + n_2*costi\n",
    "    du = n_1*dl - costi\n",
    "    dv = n_1*dl + costi\n",
    "    \n",
    "    d_div = d_division(u, v, du, dv)\n",
    "    \n",
    "    \n",
    "    return 2*(n_1*l - n_2*costi)/(n_1*l + n_2*costi)*d_div\n",
    "\n",
    "def sqrt_likelihood(angle_i_rad, n_1, n_2, coef, intensity_au):\n",
    "    rp = Rp(angle_i_rad, n_1, n_2)\n",
    "    return coef*rp - intensity_au\n",
    "\n",
    "def likelihood_grad_n2(angle_i_rad, n_1, n_2, coef, intensity_au):\n",
    "    l = sqrt_likelihood(angle_i_rad, n_1, n_2, coef, intensity_au)\n",
    "    d_rp = grad_Rp(angle_i_rad, n_1, n_2)\n",
    "    return 2*l*d_rp\n",
    "\n",
    "def likelihood_grad_coef(angle_i_rad, n_1, n_2, coef, intensity_au):\n",
    "    l = sqrt_likelihood(angle_i_rad, n_1, n_2, coef, intensity_au)\n",
    "    rp = Rp(angle_i_rad, n_1, n_2)\n",
    "    return 2*l*rp"
   ]
  },
  {
   "cell_type": "code",
   "execution_count": 69,
   "metadata": {
    "collapsed": false
   },
   "outputs": [
    {
     "name": "stdout",
     "output_type": "stream",
     "text": [
      "Current error : 364.3735\n",
      "Current error : 24.7658\n",
      "Current error : 24.5438\n",
      "Current error : 24.5436\n",
      "Current error : 24.5436\n",
      "Error change below threshold (eps = 0.00000), breaking.\n",
      "Found A : 68.926 and n_2 : 1.453\n"
     ]
    },
    {
     "data": {
      "text/plain": [
       "<matplotlib.legend.Legend at 0x10dc91860>"
      ]
     },
     "execution_count": 69,
     "metadata": {},
     "output_type": "execute_result"
    },
    {
     "data": {
      "image/png": "[encoded data removed]",
      "text/plain": [
       "<matplotlib.figure.Figure at 0x10b455eb8>"
      ]
     },
     "metadata": {},
     "output_type": "display_data"
    }
   ],
   "source": [
    "n2_init = 1.5\n",
    "A_init = 1\n",
    "learning_rate = .005\n",
    "\n",
    "A = A_init\n",
    "n_2 = n2_init\n",
    "\n",
    "N = 100000\n",
    "N_update = N/20\n",
    "\n",
    "old_err, new_err = 1e9, 1e9\n",
    "\n",
    "for i in range(N):\n",
    "    if i%N_update == 0:\n",
    "        error = 0\n",
    "        for angle, I in zip(angle_deg, intensity_mV):\n",
    "            angle_rad = angle*pi/180\n",
    "            error += sqrt_likelihood(angle_rad, n_1, n_2, A, I)**2\n",
    "        old_err, new_err = new_err, error\n",
    "        print('Current error : {:.4f}'.format(error))\n",
    "        err_change = abs(old_err - new_err)\n",
    "        if err_change < 1e-4:\n",
    "            print('Error change below threshold (eps = {:.3e}), breaking.'.format(err_change))\n",
    "            break\n",
    "    \n",
    "    for angle, I in zip(angle_deg, intensity_mV):\n",
    "        angle_rad = angle*pi/180\n",
    "        n_2_update = learning_rate*likelihood_grad_n2(angle_rad, n_1, n_2, A, I)\n",
    "        A -= learning_rate*likelihood_grad_coef(angle_rad, n_1, n_2, A, I)\n",
    "        n_2 -= n_2_update\n",
    "        \n",
    "\n",
    "print('Found A : {:.3f} and n_2 : {:.3f}'.format(A, n_2))\n",
    "        \n",
    "rp_out = []\n",
    "for angle in angle_deg:\n",
    "    angle_rad = angle*pi/180\n",
    "    rp_out.append(A*Rp(angle_rad, n_1, n_2))\n",
    "\n",
    "plot(angle_deg, rp_out, label='Fitted curve')\n",
    "plot(angle_deg, intensity_mV, label='Experimental curve')\n",
    "legend()\n",
    "# savefig('some_results.png', dpi=600)"
   ]
  },
  {
   "cell_type": "code",
   "execution_count": null,
   "metadata": {
    "collapsed": true
   },
   "outputs": [],
   "source": []
  }
 ],
 "metadata": {
  "kernelspec": {
   "display_name": "Python 3",
   "language": "python",
   "name": "python3"
  },
  "language_info": {
   "codemirror_mode": {
    "name": "ipython",
    "version": 3
   },
   "file_extension": ".py",
   "mimetype": "text/x-python",
   "name": "python",
   "nbconvert_exporter": "python",
   "pygments_lexer": "ipython3",
   "version": "3.6.0"
  }
 },
 "nbformat": 4,
 "nbformat_minor": 2
}
