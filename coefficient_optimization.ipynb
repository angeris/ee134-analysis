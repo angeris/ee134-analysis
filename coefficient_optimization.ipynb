{
 "cells": [
  {
   "cell_type": "code",
   "execution_count": 1,
   "metadata": {
    "collapsed": false
   },
   "outputs": [
    {
     "name": "stdout",
     "output_type": "stream",
     "text": [
      "Populating the interactive namespace from numpy and matplotlib\n"
     ]
    }
   ],
   "source": [
    "%pylab inline\n",
    "from scipy.optimize import minimize"
   ]
  },
  {
   "cell_type": "code",
   "execution_count": 2,
   "metadata": {
    "collapsed": false
   },
   "outputs": [
    {
     "data": {
      "text/plain": [
       "array([[ 10.  ,   3.39],\n",
       "       [ 15.  ,   3.54],\n",
       "       [ 20.  ,   3.34],\n",
       "       [ 25.  ,   3.07],\n",
       "       [ 30.  ,   2.79],\n",
       "       [ 35.  ,   2.47],\n",
       "       [ 40.  ,   2.13],\n",
       "       [ 45.  ,   1.82],\n",
       "       [ 50.  ,   1.66],\n",
       "       [ 52.  ,   1.67],\n",
       "       [ 53.  ,   1.7 ],\n",
       "       [ 54.  ,   1.74],\n",
       "       [ 55.  ,   1.79],\n",
       "       [ 56.  ,   1.9 ],\n",
       "       [ 57.  ,   2.02],\n",
       "       [ 58.  ,   2.15],\n",
       "       [ 60.  ,   2.47],\n",
       "       [ 65.  ,   4.22],\n",
       "       [ 70.  ,   7.89],\n",
       "       [ 75.  ,  14.06]])"
      ]
     },
     "execution_count": 2,
     "metadata": {},
     "output_type": "execute_result"
    }
   ],
   "source": [
    "import xlwings as xw\n",
    "\n",
    "# View the current data open in Excel\n",
    "curr_data = array(xw.Range('A1:B20').value)\n",
    "angle_deg = array(curr_data[:,0])\n",
    "intensity_mV = array(curr_data[:,1])\n",
    "\n",
    "curr_data"
   ]
  },
  {
   "cell_type": "code",
   "execution_count": 3,
   "metadata": {
    "collapsed": false
   },
   "outputs": [
    {
     "data": {
      "text/plain": [
       "<matplotlib.text.Text at 0x1122e4cf8>"
      ]
     },
     "execution_count": 3,
     "metadata": {},
     "output_type": "execute_result"
    },
    {
     "data": {
      "image/png": "[encoded data removed]",
      "text/plain": [
       "<matplotlib.figure.Figure at 0x1114e3cf8>"
      ]
     },
     "metadata": {},
     "output_type": "display_data"
    }
   ],
   "source": [
    "# A quick plot of the data yields\n",
    "plot(angle_deg, intensity_mV)\n",
    "xlabel('Angle in Deg.')\n",
    "ylabel('Intensity in mV')"
   ]
  },
  {
   "cell_type": "code",
   "execution_count": 4,
   "metadata": {
    "collapsed": false
   },
   "outputs": [],
   "source": [
    "n_1 = 1"
   ]
  },
  {
   "cell_type": "markdown",
   "metadata": {},
   "source": [
    "## Gradients and differentiation rules\n",
    "\n",
    "Note that\n",
    "$$\n",
    "\\ell \\equiv \\sqrt{1-\\left(\\frac{n_1}{n_2}\\sin\\theta_i\\right)^2} = \\cos\\theta_t\n",
    "$$\n",
    "such that\n",
    "$$\n",
    "\\frac{d\\ell}{dn_2} = \\frac{(n_1 \\sin\\theta_i)^2}{n_2^3\\sqrt{\\ell}}\n",
    "$$"
   ]
  },
  {
   "cell_type": "code",
   "execution_count": 5,
   "metadata": {
    "collapsed": true
   },
   "outputs": [],
   "source": [
    "# Division rule\n",
    "def d_division(u, v, du, dv):\n",
    "    return (du*v - dv*u)/(v*v)\n",
    "\n",
    "# Mult, not really needed\n",
    "def d_multiplication(u, v, du, dv):\n",
    "    return u*dv + du*v\n",
    "\n",
    "# Cos (theta_t)\n",
    "def l_funct(angle_i_rad, n_1, n_2):\n",
    "    return sqrt(1 - (n_1/n_2*sin(angle_i_rad))**2)\n",
    "\n",
    "# dl/dn_2\n",
    "def l_grad(angle_i_rad, n_1, n_2):\n",
    "    return (n_1*sin(angle_i_rad))**2/(n_2**3 * l_funct(angle_i_rad, n_1, n_2))\n",
    "\n",
    "# Reflection coefficients\n",
    "def Rp(angle_i_rad, n_1, n_2):\n",
    "    l = l_funct(angle_i_rad, n_1, n_2)\n",
    "    costi = cos(angle_i_rad)\n",
    "    return ((n_1*l - n_2*costi)/(n_1*l + n_2*costi))**2\n",
    "\n",
    "# Gradient of reflection coefficients\n",
    "def grad_Rp(angle_i_rad, n_1, n_2):\n",
    "    l = l_funct(angle_i_rad, n_1, n_2)\n",
    "    dl = l_grad(angle_i_rad, n_1, n_2)\n",
    "    costi = cos(angle_i_rad)\n",
    "    u = n_1*l - n_2*costi\n",
    "    v = n_1*l + n_2*costi\n",
    "    du = n_1*dl - costi\n",
    "    dv = n_1*dl + costi\n",
    "    \n",
    "    d_div = d_division(u, v, du, dv)\n",
    "    \n",
    "    return 2*(n_1*l - n_2*costi)/(n_1*l + n_2*costi)*d_div\n",
    "\n",
    "# ll = (A*Rp - I - alpha)\n",
    "def sqrt_likelihood(angle_i_rad, n_1, n_2, coef, intensity_au, alpha=0):\n",
    "    rp = Rp(angle_i_rad, n_1, n_2)\n",
    "    return coef*rp - intensity_au - alpha\n",
    "\n",
    "# d(ll)/(dn_2)\n",
    "def likelihood_grad_n2(angle_i_rad, n_1, n_2, coef, intensity_au, alpha=0):\n",
    "    l = sqrt_likelihood(angle_i_rad, n_1, n_2, coef, intensity_au, alpha)\n",
    "    d_rp = grad_Rp(angle_i_rad, n_1, n_2)\n",
    "    return 2*l*d_rp*coef\n",
    "\n",
    "# d(ll)/(dA)\n",
    "def likelihood_grad_coef(angle_i_rad, n_1, n_2, coef, intensity_au, alpha=0):\n",
    "    l = sqrt_likelihood(angle_i_rad, n_1, n_2, coef, intensity_au, alpha)\n",
    "    rp = Rp(angle_i_rad, n_1, n_2)\n",
    "    return 2*l*rp\n",
    "\n",
    "# Complete likelihood\n",
    "def ll_normal(x):\n",
    "    n2, A = x\n",
    "    tot = 0\n",
    "    for angle, I in zip(angle_deg, intensity_mV):\n",
    "        angle_i_rad = pi*angle/180\n",
    "        rp = Rp(angle_i_rad, n_1, n2)\n",
    "        tot += (A*rp - I)**2\n",
    "    return tot\n",
    "\n",
    "# Gradient of complete likelihood\n",
    "def ll_grad(x):\n",
    "    n2, A = x\n",
    "    tot_n2, tot_A = 0, 0\n",
    "    N = len(angle_deg)\n",
    "    for angle, I in zip(angle_deg, intensity_mV):\n",
    "        angle_rad = pi*angle/180\n",
    "        tot_n2 += likelihood_grad_n2(angle_rad, n_1, n2, A, I)/N\n",
    "        tot_A  += likelihood_grad_coef(angle_rad, n_1, n2, A, I)/N\n",
    "    return array([tot_n2, tot_A])"
   ]
  },
  {
   "cell_type": "code",
   "execution_count": 6,
   "metadata": {
    "collapsed": false
   },
   "outputs": [
    {
     "data": {
      "text/plain": [
       "      fun: 39.87043669641663\n",
       " hess_inv: array([[  1.10374635e-02,  -7.69815288e-01],\n",
       "       [ -7.69815288e-01,   6.21323931e+02]])\n",
       "      jac: array([ -9.32703320e-07,   3.18067354e-09])\n",
       "  message: 'Optimization terminated successfully.'\n",
       "     nfev: 19\n",
       "      nit: 13\n",
       "     njev: 19\n",
       "   status: 0\n",
       "  success: True\n",
       "        x: array([   1.41192401,  138.04805925])"
      ]
     },
     "execution_count": 6,
     "metadata": {},
     "output_type": "execute_result"
    }
   ],
   "source": [
    "# Minimize the likelihood\n",
    "res = minimize(ll_normal, array([1.2, 100]),  jac=ll_grad)\n",
    "res"
   ]
  },
  {
   "cell_type": "code",
   "execution_count": 9,
   "metadata": {
    "collapsed": false,
    "scrolled": true
   },
   "outputs": [
    {
     "data": {
      "image/png": "[encoded data removed]",
      "text/plain": [
       "<matplotlib.figure.Figure at 0x1122dbdd8>"
      ]
     },
     "metadata": {},
     "output_type": "display_data"
    }
   ],
   "source": [
    "n_2, A = res.x\n",
    "\n",
    "with_intercept = False\n",
    "\n",
    "rp_out = []\n",
    "for angle in angle_deg:\n",
    "    angle_rad = angle*pi/180\n",
    "    if with_intercept:\n",
    "        rp_out.append(A*Rp(angle_rad, n_1, n_2) - alpha)\n",
    "    else:\n",
    "        rp_out.append(A*Rp(angle_rad, n_1, n_2))\n",
    "        \n",
    "material_name = 'Borofloat'\n",
    "plot(angle_deg, rp_out, label='Fitted curve')\n",
    "plot(angle_deg, intensity_mV, label='Experimental curve')\n",
    "title('{} data fitting{}: $n_2 \\\\approx {:.3f}$'.format(material_name, ' with intercept' if with_intercept else '', n_2))\n",
    "xlabel(r'Angle of incidence $\\theta$')\n",
    "ylabel(r'Incident intensity (a.u.)')\n",
    "legend()\n",
    "savefig('{}_data_fitting{}.png'.format(material_name.lower(), '_intercept' if with_intercept else ''), dpi=600)"
   ]
  },
  {
   "cell_type": "markdown",
   "metadata": {},
   "source": [
    "# Ignore lines below (Implemented SGD, but it's relatively slow)"
   ]
  },
  {
   "cell_type": "markdown",
   "metadata": {},
   "source": [
    "### Simple stochastic gradient descent algorithm\n",
    "Given $\\eta = .005$ the simple update rule is, given the error function (call it $E$) which we seek to minimize dependent on some parameters $\\theta$ and set of data points $\\{x_i\\}$ is\n",
    "$$\n",
    "\\theta^{i+1} = \\theta^{i} - \\eta \\nabla E(x_i; \\theta^{i})\n",
    "$$\n",
    "note that the derivatives are computed above."
   ]
  },
  {
   "cell_type": "code",
   "execution_count": null,
   "metadata": {
    "collapsed": false
   },
   "outputs": [],
   "source": [
    "n2_init = 1.5\n",
    "A_init = 130\n",
    "intercept_init = 0\n",
    "learning_rate = .0005\n",
    "with_intercept = False\n",
    "\n",
    "A = A_init\n",
    "n_2 = n2_init\n",
    "alpha = intercept_init if with_intercept else 0\n",
    "\n",
    "N = 300000\n",
    "N_update = N//20\n",
    "\n",
    "old_err, new_err = 1e9, 1e9\n",
    "\n",
    "data = list(zip(angle_deg, intensity_mV))\n",
    "\n",
    "for i in range(N):\n",
    "    if i%N_update == 0:\n",
    "        error = 0\n",
    "        for angle, I in zip(angle_deg, intensity_mV):\n",
    "            angle_rad = angle*pi/180\n",
    "            error += sqrt_likelihood(angle_rad, n_1, n_2, A, I, alpha)**2\n",
    "        old_err, new_err = new_err, error\n",
    "        print('Current error : {:.4f}'.format(error))\n",
    "        print('With parameters : A={:.4f} n_2={:.4f}'.format(A, n_2))\n",
    "        err_change = abs(old_err - new_err)\n",
    "        if err_change < 1e-5:\n",
    "            print('Error change below threshold (eps = {:.3e}), breaking.'.format(err_change))\n",
    "            break\n",
    "    shuffle(data)\n",
    "    for angle, I in data:\n",
    "        angle_rad = angle*pi/180\n",
    "        n_2_update = learning_rate*likelihood_grad_n2(angle_rad, n_1, n_2, A, I, alpha)\n",
    "        if with_intercept:\n",
    "            alpha_update = -2*learning_rate*sqrt_likelihood(angle_rad, n_1, n_2, A, I, alpha)\n",
    "        A -= learning_rate*likelihood_grad_coef(angle_rad, n_1, n_2, A, I, alpha)\n",
    "        n_2 -= n_2_update\n",
    "        if with_intercept: \n",
    "            alpha -= alpha_update\n",
    "        \n",
    "\n",
    "print('Found A : {:.3f} and n_2 : {:.3f}'.format(A, n_2))"
   ]
  },
  {
   "cell_type": "code",
   "execution_count": null,
   "metadata": {
    "collapsed": false
   },
   "outputs": [],
   "source": [
    "rp_out = []\n",
    "for angle in angle_deg:\n",
    "    angle_rad = angle*pi/180\n",
    "    if with_intercept:\n",
    "        rp_out.append(A*Rp(angle_rad, n_1, n_2) - alpha)\n",
    "    else:\n",
    "        rp_out.append(A*Rp(angle_rad, n_1, n_2))\n",
    "        \n",
    "material_name = 'Borofloat'\n",
    "plot(angle_deg, rp_out, label='Fitted curve')\n",
    "plot(angle_deg, intensity_mV, label='Experimental curve')\n",
    "title('{} data fitting{}: $n_2 \\\\approx {:.3f}$'.format(material_name, ' with intercept' if with_intercept else '', n_2))\n",
    "xlabel(r'Angle of incidence $\\theta$')\n",
    "ylabel(r'Incident intensity (a.u.)')\n",
    "legend()\n",
    "# savefig('{}_data_fitting{}.png'.format(material_name.lower(), '_intercept' if with_intercept else ''), dpi=600)"
   ]
  },
  {
   "cell_type": "code",
   "execution_count": null,
   "metadata": {
    "collapsed": true
   },
   "outputs": [],
   "source": []
  }
 ],
 "metadata": {
  "kernelspec": {
   "display_name": "Python 3",
   "language": "python",
   "name": "python3"
  },
  "language_info": {
   "codemirror_mode": {
    "name": "ipython",
    "version": 3
   },
   "file_extension": ".py",
   "mimetype": "text/x-python",
   "name": "python",
   "nbconvert_exporter": "python",
   "pygments_lexer": "ipython3",
   "version": "3.6.0"
  }
 },
 "nbformat": 4,
 "nbformat_minor": 2
}
